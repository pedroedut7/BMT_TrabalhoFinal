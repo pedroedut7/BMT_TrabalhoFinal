{
 "cells": [
  {
   "cell_type": "code",
   "execution_count": 1,
   "id": "f0f6fc67-5319-424c-a3f5-d993e90a855c",
   "metadata": {
    "tags": []
   },
   "outputs": [],
   "source": [
    "import pandas as pd\n",
    "import nltk\n",
    "from nltk.corpus import stopwords\n",
    "from nltk.tokenize import word_tokenize\n",
    "from nltk.stem import PorterStemmer\n",
    "import stanfordnlp\n",
    "import string\n",
    "import random\n",
    "import pickle\n",
    "import re\n",
    "import time\n",
    "import matplotlib.pyplot as plt"
   ]
  },
  {
   "cell_type": "code",
   "execution_count": 2,
   "id": "51972281-4023-4dcc-af54-0d742e65e742",
   "metadata": {},
   "outputs": [],
   "source": [
    "path = 'C:\\\\Users\\\\lolfa\\\\BMT\\\\TrabalhoFinal\\\\1_movies_per_genre'\n",
    "path_film = 'C:\\\\Users\\\\lolfa\\\\BMT\\\\TrabalhoFinal\\\\2_reviews_per_movie_raw'\n",
    "path_resultado = 'resultado_novo.dat'"
   ]
  },
  {
   "cell_type": "code",
   "execution_count": 3,
   "id": "bfd73a01-96be-4339-925c-97cc270177bf",
   "metadata": {
    "tags": []
   },
   "outputs": [],
   "source": [
    "genres = ['Action', 'Comedy', 'Drama', 'Horror', 'Sci-Fi']\n",
    "\n",
    "genres_csv = {genre:pd.read_csv(path+'\\\\'+genre+'.csv') for genre in genres}\n",
    "film_per_genre = {genre: [row['name'] + ' ' + str(row['year']) + '.csv' for i, row in genres_csv[genre].iterrows()] for genre in genres}"
   ]
  },
  {
   "cell_type": "code",
   "execution_count": 4,
   "id": "bbb7f17f-de17-4a49-941d-434cbb94be9f",
   "metadata": {
    "tags": []
   },
   "outputs": [],
   "source": [
    "# Auxiliares\n",
    "\n",
    "def clean_text(text):\n",
    "    text = text.replace('<br/>', '')\n",
    "    text = text.replace('<li>', '')\n",
    "    text = text.replace('</li>', '')\n",
    "    text = text.replace('ul', '')\n",
    "    return text\n",
    "\n",
    "def process_text(text):\n",
    "    # Tokenização e POS tagging usando StanfordNLP\n",
    "    doc = nlp(text)\n",
    "    \n",
    "    # Extrair tokens e POS tags\n",
    "    tokens = [(word.text, word.upos) for sent in doc.sentences for word in sent.words]\n",
    "    \n",
    "    # Remoção de stop words, pontuação e stemming\n",
    "    stop_words = set(stopwords.words('english'))\n",
    "    processed_tokens = [\n",
    "        (stemmer.stem(word), pos) \n",
    "        for word, pos in tokens \n",
    "        if word.lower() not in stop_words and word not in string.punctuation\n",
    "    ]\n",
    "    \n",
    "    return processed_tokens"
   ]
  },
  {
   "cell_type": "code",
   "execution_count": 5,
   "id": "216f242f-befb-4755-aa4e-8bddccb237d3",
   "metadata": {
    "tags": []
   },
   "outputs": [],
   "source": [
    "csv_per_film = {genre:{'rates':[], 'reviews':[]} for genre in genres}\n",
    "\n",
    "for genre in genres:\n",
    "    films = film_per_genre[genre]\n",
    "    for film in films:\n",
    "        try:\n",
    "            csv = pd.read_csv(path_film+'\\\\'+film)\n",
    "            csv_pre = csv[['rating', 'review']]\n",
    "            for i, row in csv_pre.iterrows():\n",
    "                rating = row['rating']\n",
    "                review = clean_text(row['review'])\n",
    "                if rating != 'Null':\n",
    "                    csv_per_film[genre]['rates'].append(int(rating))\n",
    "                    csv_per_film[genre]['reviews'].append(review)\n",
    "        except:\n",
    "            continue\n",
    "\n",
    "dfFilm_per_genre = {genre: pd.DataFrame(csv_per_film[genre]) for genre in genres}"
   ]
  },
  {
   "cell_type": "code",
   "execution_count": 6,
   "id": "8e4a4284-fa35-4c4c-86ab-f9e1415f417c",
   "metadata": {
    "tags": []
   },
   "outputs": [
    {
     "name": "stdout",
     "output_type": "stream",
     "text": [
      "Use device: cpu\n",
      "---\n",
      "Loading: tokenize\n",
      "With settings: \n",
      "{'model_path': 'C:\\\\Users\\\\lolfa\\\\stanfordnlp_resources\\\\en_ewt_models\\\\en_ewt_tokenizer.pt', 'lang': 'en', 'shorthand': 'en_ewt', 'mode': 'predict'}\n",
      "---\n",
      "Loading: pos\n",
      "With settings: \n",
      "{'model_path': 'C:\\\\Users\\\\lolfa\\\\stanfordnlp_resources\\\\en_ewt_models\\\\en_ewt_tagger.pt', 'pretrain_path': 'C:\\\\Users\\\\lolfa\\\\stanfordnlp_resources\\\\en_ewt_models\\\\en_ewt.pretrain.pt', 'lang': 'en', 'shorthand': 'en_ewt', 'mode': 'predict'}\n",
      "Done loading processors!\n",
      "---\n",
      "O tempo de execução foi de 8057.011548 segundos\n"
     ]
    }
   ],
   "source": [
    "# Inicializar o stemmer e o StanfordNLP pipeline\n",
    "stemmer = PorterStemmer()\n",
    "nlp = stanfordnlp.Pipeline(processors='tokenize,pos', lang='en')\n",
    "\n",
    "pos_tag_per_genre = {genre:{'rates':[], 'tag_text':[]} for genre in genres}\n",
    "\n",
    "tempo_inicial = time.perf_counter()\n",
    "for genre in genres:\n",
    "    n_reviews = len(csv_per_film[genre]['reviews'])\n",
    "    sample = random.sample(range(n_reviews), 10000)\n",
    "    for i in sample:\n",
    "        rate = csv_per_film[genre]['rates'][i]\n",
    "        review = csv_per_film[genre]['reviews'][i]\n",
    "        pos_review = process_text(review)\n",
    "        pos_tag_per_genre[genre]['rates'].append(rate)\n",
    "        pos_tag_per_genre[genre]['tag_text'].append(pos_review)\n",
    "        \n",
    "tempo_final = time.perf_counter()\n",
    "tempo_execucao = tempo_final - tempo_inicial\n",
    "print(f\"O tempo de execução foi de {tempo_execucao:.6f} segundos\")"
   ]
  },
  {
   "cell_type": "code",
   "execution_count": 7,
   "id": "920f684a-5c1f-4181-a646-d82e4c16e6a7",
   "metadata": {
    "tags": []
   },
   "outputs": [],
   "source": [
    "# Salva os resultados para uso futuro\n",
    "with open(path_resultado, 'wb') as arquivo:\n",
    "    pickle.dump(pos_tag_per_genre, arquivo) "
   ]
  },
  {
   "cell_type": "code",
   "execution_count": null,
   "id": "b91bc71d-b52c-4e24-b7a5-a1d90e1b2dad",
   "metadata": {},
   "outputs": [],
   "source": []
  }
 ],
 "metadata": {
  "kernelspec": {
   "display_name": "teste",
   "language": "python",
   "name": "teste"
  },
  "language_info": {
   "codemirror_mode": {
    "name": "ipython",
    "version": 3
   },
   "file_extension": ".py",
   "mimetype": "text/x-python",
   "name": "python",
   "nbconvert_exporter": "python",
   "pygments_lexer": "ipython3",
   "version": "3.10.13"
  }
 },
 "nbformat": 4,
 "nbformat_minor": 5
}
