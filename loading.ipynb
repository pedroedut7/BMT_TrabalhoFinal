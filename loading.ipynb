{
 "cells": [
  {
   "cell_type": "code",
   "execution_count": 1,
   "id": "26e61985-59f5-4bef-b459-b9dd731115e3",
   "metadata": {
    "tags": []
   },
   "outputs": [],
   "source": [
    "import pickle\n",
    "import random\n",
    "import pandas as pd\n",
    "import statistics\n",
    "import matplotlib.pyplot as plt\n",
    "from collections import defaultdict\n",
    "from sklearn.metrics import accuracy_score, confusion_matrix, precision_score, recall_score, f1_score, classification_report"
   ]
  },
  {
   "cell_type": "code",
   "execution_count": 2,
   "id": "0ed3311b-b2ee-4046-b962-0138e0ad7e0f",
   "metadata": {
    "tags": []
   },
   "outputs": [],
   "source": [
    "path_resultado = 'resultado_novo.dat'\n",
    "\n",
    "with open(path_resultado, 'rb') as arquivo:\n",
    "    pos_tag_per_genre = pickle.load(arquivo)"
   ]
  },
  {
   "cell_type": "code",
   "execution_count": 3,
   "id": "edd4f535-f178-448a-b1b4-f528354f374f",
   "metadata": {
    "tags": []
   },
   "outputs": [],
   "source": [
    "def evaluate(rate, genre):\n",
    "    rate_per_genre = {'Action': 8, 'Drama': 9, 'Sci-Fi': 8, 'Horror': 7, 'Comedy': 8}\n",
    "    return 'positive' if rate > rate_per_genre[genre] else 'negative'\n",
    "\n",
    "def map_rate(rate, genre):\n",
    "    map_rate_per_genre = {\n",
    "        'Action': {'1': -5, '2': -4.38, '3': -3.75, '4': -3.13, '5': -2.5, '6': -1.88, '7': -1.25, '8': -0.63, '9': 2.5, '10': 5},\n",
    "        'Drama': {'1': -5, '2': -4.44, '3': -3.89, '4': -3.33, '5': -2.78, '6': -2.22, '7': -1.67, '8': -1.11, '9': -0.56, '10': 5},\n",
    "        'Horror': {'1': -5, '2': -4.29, '3': -3.57, '4': -2.86, '5': -2.14, '6': -1.43, '7': -0.71, '8': 1.67, '9': 3.33, '10': 5},\n",
    "        'Sci-Fi': {'1': -5, '2': -4.38, '3': -3.75, '4': -3.13, '5': -2.5, '6': -1.88, '7': -1.25, '8': -0.63, '9': 2.5, '10': 5},\n",
    "        'Comedy': {'1': -5, '2': -4.38, '3': -3.75, '4': -3.13, '5': -2.5, '6': -1.88, '7': -1.25, '8': -0.63, '9': 2.5, '10': 5}\n",
    "    }\n",
    "    \n",
    "    return map_rate_per_genre[genre][str(rate)]\n",
    "\n",
    "def find_word_sentiment(word_count, genre, mean):\n",
    "    if word_count[0] < mean: return 0\n",
    "    shift_per_genre = {'Action': 0.45, 'Horror': 0.325, 'Comedy': 0.725, 'Drama': 0.725, 'Sci-Fi': 0.075}\n",
    "    ratings = [1, 2, 3, 4, 5, 6, 7, 8, 9, 10]\n",
    "    total = word_count[0]\n",
    "    sentiment = 0\n",
    "    for rate in ratings:\n",
    "        try:\n",
    "            word_rate = word_count[rate]\n",
    "        except:\n",
    "            word_rate = 0\n",
    "        \n",
    "        sentiment += (word_rate/total) * map_rate(rate, genre)\n",
    "    \n",
    "    return sentiment - shift_per_genre[genre]"
   ]
  },
  {
   "cell_type": "code",
   "execution_count": 4,
   "id": "045ff882-69cd-4202-99ab-0854813fe618",
   "metadata": {
    "tags": []
   },
   "outputs": [],
   "source": [
    "genres = ['Action', 'Comedy', 'Drama', 'Horror', 'Sci-Fi']\n",
    "classes = ['ADJ', 'ADV', 'VERB', 'NOUN']\n",
    "\n",
    "pos_tag_per_genre_final = {genre: {'rates': [], 'tag_text': []} for genre in genres}\n",
    "for genre in genres:\n",
    "    assert len(pos_tag_per_genre[genre]['tag_text']) == len(pos_tag_per_genre[genre]['rates'])\n",
    "    n_reviews = len(pos_tag_per_genre[genre]['tag_text'])\n",
    "    for i in range(n_reviews):\n",
    "        review_clean = []\n",
    "        review  = pos_tag_per_genre[genre]['tag_text'][i]\n",
    "        rate    = pos_tag_per_genre[genre]['rates'][i]\n",
    "        for word, sintax in review:\n",
    "            if sintax in classes:\n",
    "                review_clean.append((word, sintax))\n",
    "                \n",
    "        pos_tag_per_genre_final[genre]['rates'].append(rate)\n",
    "        pos_tag_per_genre_final[genre]['tag_text'].append(review_clean)"
   ]
  },
  {
   "cell_type": "code",
   "execution_count": 5,
   "id": "6f76a80b-4c0b-441f-9e37-c9a7961ac011",
   "metadata": {},
   "outputs": [],
   "source": [
    "train_test = {genre: {'train': {'rates': [], 'tag_text': []}, 'test': {'rates': [], 'tag_text': []}} for genre in genres}\n",
    "\n",
    "for genre in genres:\n",
    "    assert len(pos_tag_per_genre_final[genre]['tag_text']) == len(pos_tag_per_genre_final[genre]['rates'])\n",
    "    n_reviews = len(pos_tag_per_genre_final[genre]['tag_text'])\n",
    "    for i in range(n_reviews):\n",
    "        review  = pos_tag_per_genre_final[genre]['tag_text'][i]\n",
    "        rate    = pos_tag_per_genre_final[genre]['rates'][i]\n",
    "        if random.random() < 0.2:\n",
    "            train_test[genre]['test']['rates'].append(evaluate(rate, genre))\n",
    "            train_test[genre]['test']['tag_text'].append(review)\n",
    "        else:\n",
    "            train_test[genre]['train']['rates'].append(rate)\n",
    "            train_test[genre]['train']['tag_text'].append(review)"
   ]
  },
  {
   "cell_type": "code",
   "execution_count": 6,
   "id": "fe2ea3ba-20cd-4295-a6eb-e92115902c86",
   "metadata": {
    "tags": []
   },
   "outputs": [],
   "source": [
    "word_count_per_genre = {}\n",
    "for genre in genres:\n",
    "    word_count = {}\n",
    "    assert len(train_test[genre]['train']['tag_text']) == len(train_test[genre]['train']['rates'])\n",
    "    n_reviews = len(train_test[genre]['train']['tag_text'])\n",
    "    for i in range(n_reviews):\n",
    "        review  = train_test[genre]['train']['tag_text'][i]\n",
    "        rate    = train_test[genre]['train']['rates'][i]\n",
    "        for word in review:\n",
    "            try:\n",
    "                word_count[word][rate] += 1\n",
    "                word_count[word][0] += 1\n",
    "            except:\n",
    "                word_count[word] = defaultdict(int)\n",
    "                word_count[word][rate] += 1\n",
    "                word_count[word][0] += 1\n",
    "    word_count_per_genre[genre] = word_count"
   ]
  },
  {
   "cell_type": "code",
   "execution_count": 7,
   "id": "3b17997b-d626-4513-948c-e5cf6c47f83b",
   "metadata": {
    "tags": []
   },
   "outputs": [],
   "source": [
    "mean_per_genre = {}\n",
    "for genre in genres:\n",
    "    total = 0\n",
    "    count = 0\n",
    "    for word in word_count_per_genre[genre]:\n",
    "        total += word_count_per_genre[genre][word][0]\n",
    "        count += 1\n",
    "    mean_per_genre[genre] = total/count"
   ]
  },
  {
   "cell_type": "code",
   "execution_count": 8,
   "id": "8a929a29-d52c-4ade-9f77-280c6ed11406",
   "metadata": {
    "tags": []
   },
   "outputs": [],
   "source": [
    "word_sentiment_per_genre = {genre: {} for genre in genres}\n",
    "\n",
    "for genre in genres:\n",
    "    for word in word_count_per_genre[genre]:\n",
    "        word_sentiment_per_genre[genre][word] = find_word_sentiment(word_count_per_genre[genre][word], genre, mean_per_genre[genre])"
   ]
  },
  {
   "cell_type": "code",
   "execution_count": 9,
   "id": "907ff541-d7bd-455b-bdc5-76d76943ec51",
   "metadata": {
    "tags": []
   },
   "outputs": [],
   "source": [
    "x_expected = {genre: [] for genre in genres}\n",
    "for genre in genres:\n",
    "    for review in train_test[genre]['test']['tag_text']:\n",
    "        reviews_rate = []\n",
    "        review_rate = 0\n",
    "        count = 0\n",
    "        for word in review:\n",
    "            count += 1\n",
    "            try:\n",
    "                sentiment = word_sentiment_per_genre[genre][word]\n",
    "            except:\n",
    "                sentiment = 0\n",
    "            review_rate += sentiment\n",
    "            reviews_rate.append(sentiment)\n",
    "            \n",
    "        if len(review) != 0:\n",
    "            review_rate = review_rate/count\n",
    "        if review_rate > 0:\n",
    "            x_expected[genre].append('positive')\n",
    "        else:\n",
    "            x_expected[genre].append('negative')"
   ]
  },
  {
   "cell_type": "code",
   "execution_count": 10,
   "id": "cbe1b703-8eb9-4a56-9ae9-809757349880",
   "metadata": {
    "tags": []
   },
   "outputs": [
    {
     "name": "stdout",
     "output_type": "stream",
     "text": [
      "Action\n",
      "Acurácia: 0.77\n",
      "Precisão: 0.77\n",
      "Recall: 0.82\n",
      "F-score: 0.76\n",
      "Comedy\n",
      "Acurácia: 0.73\n",
      "Precisão: 0.73\n",
      "Recall: 0.80\n",
      "F-score: 0.74\n",
      "Drama\n",
      "Acurácia: 0.74\n",
      "Precisão: 0.74\n",
      "Recall: 0.72\n",
      "F-score: 0.69\n",
      "Horror\n",
      "Acurácia: 0.80\n",
      "Precisão: 0.80\n",
      "Recall: 0.84\n",
      "F-score: 0.79\n",
      "Sci-Fi\n",
      "Acurácia: 0.78\n",
      "Precisão: 0.78\n",
      "Recall: 0.72\n",
      "F-score: 0.72\n"
     ]
    }
   ],
   "source": [
    "for genre in genres:\n",
    "    y_true = [1 if rate == 'positive' else 0 for rate in train_test[genre]['test']['rates']]\n",
    "    y_pred = [1 if rate == 'positive' else 0 for rate in x_expected[genre]]\n",
    "    precisao = accuracy_score(y_true, y_pred)\n",
    "    acuracia = accuracy_score(y_true, y_pred)\n",
    "    recall = recall_score(y_true, y_pred)\n",
    "    f_score = f1_score(y_true, y_pred)\n",
    "    \n",
    "    print(genre)\n",
    "    print(f'Acurácia: {acuracia:.2f}')\n",
    "    print(f'Precisão: {precisao:.2f}')\n",
    "    print(f'Recall: {recall:.2f}')\n",
    "    print(f'F-score: {f_score:.2f}')"
   ]
  },
  {
   "cell_type": "code",
   "execution_count": 11,
   "id": "9e05eb13-5501-42a9-9271-a3ee50a8092b",
   "metadata": {
    "tags": []
   },
   "outputs": [
    {
     "name": "stdout",
     "output_type": "stream",
     "text": [
      "Matriz de Confusão de Action:\n",
      "[[811 292]\n",
      " [164 742]]\n",
      "Matriz de Confusão de Comedy:\n",
      "[[718 358]\n",
      " [192 784]]\n",
      "Matriz de Confusão de Drama:\n",
      "[[894 304]\n",
      " [231 591]]\n",
      "Matriz de Confusão de Horror:\n",
      "[[800 254]\n",
      " [147 773]]\n",
      "Matriz de Confusão de Sci-Fi:\n",
      "[[973 216]\n",
      " [222 562]]\n"
     ]
    }
   ],
   "source": [
    "for genre in genres:\n",
    "    matriz_confusao = confusion_matrix(train_test[genre]['test']['rates'], x_expected[genre])\n",
    "    print(f\"Matriz de Confusão de {genre}:\")\n",
    "    print(matriz_confusao)"
   ]
  },
  {
   "cell_type": "code",
   "execution_count": 12,
   "id": "07772c1c-a688-4c98-9e26-e2f1bec47550",
   "metadata": {
    "tags": []
   },
   "outputs": [
    {
     "name": "stdout",
     "output_type": "stream",
     "text": [
      "O tamanho médio das análises positivas pro gênero Sci-Fi foi de: 92.98413098236776\n",
      "O tamanho médio das análises negativas pro gênero Sci-Fi foi de: 110.50514096185738\n"
     ]
    }
   ],
   "source": [
    "len_pos = 0\n",
    "len_neg = 0\n",
    "count_pos = 0\n",
    "count_neg = 0\n",
    "genre = 'Sci-Fi'\n",
    "for i in range(10000):\n",
    "    rate = pos_tag_per_genre_final[genre]['rates'][i]\n",
    "    len_aval = len(pos_tag_per_genre_final[genre]['tag_text'][i])\n",
    "    if rate > 8:\n",
    "        len_pos += len_aval\n",
    "        count_pos += 1\n",
    "    else:\n",
    "        len_neg += len_aval\n",
    "        count_neg += 1\n",
    "print(f'O tamanho médio das análises positivas pro gênero {genre} foi de: {len_pos/count_pos}')\n",
    "print(f'O tamanho médio das análises negativas pro gênero {genre} foi de: {len_neg/count_neg}')"
   ]
  },
  {
   "cell_type": "code",
   "execution_count": 13,
   "id": "4a849e23-a93d-471e-96fe-66f16566d624",
   "metadata": {
    "tags": []
   },
   "outputs": [
    {
     "data": {
      "image/png": "[encoded data removed]",
      "text/plain": [
       "<Figure size 800x800 with 1 Axes>"
      ]
     },
     "metadata": {},
     "output_type": "display_data"
    }
   ],
   "source": [
    "genre = 'Sci-Fi'\n",
    "df = pd.DataFrame(train_test[genre]['test'])\n",
    "value_counts = df['rates'].value_counts()\n",
    "plt.figure(figsize=(8, 8))\n",
    "plt.pie(value_counts, labels=value_counts.index, autopct='%1.1f%%')\n",
    "plt.title(genre)\n",
    "plt.show()"
   ]
  },
  {
   "cell_type": "code",
   "execution_count": null,
   "id": "86524362-21a7-4a89-a151-7eef02597c86",
   "metadata": {},
   "outputs": [],
   "source": []
  }
 ],
 "metadata": {
  "kernelspec": {
   "display_name": "teste",
   "language": "python",
   "name": "teste"
  },
  "language_info": {
   "codemirror_mode": {
    "name": "ipython",
    "version": 3
   },
   "file_extension": ".py",
   "mimetype": "text/x-python",
   "name": "python",
   "nbconvert_exporter": "python",
   "pygments_lexer": "ipython3",
   "version": "3.10.13"
  }
 },
 "nbformat": 4,
 "nbformat_minor": 5
}
